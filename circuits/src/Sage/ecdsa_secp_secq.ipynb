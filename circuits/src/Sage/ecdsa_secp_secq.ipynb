{
 "cells": [
  {
   "cell_type": "code",
   "execution_count": 1,
   "id": "b596dc28",
   "metadata": {},
   "outputs": [
    {
     "name": "stdout",
     "output_type": "stream",
     "text": [
      "115792089237316195423570985008687907853269984665640564039457584007908834671663\n",
      "p= 115792089237316195423570985008687907853269984665640564039457584007908834671663\n",
      "q= 115792089237316195423570985008687907852837564279074904382605163141518161494337\n"
     ]
    },
    {
     "data": {
      "text/plain": [
       "115792089237316195423570985008687907853269984665640564039457584007908834671663"
      ]
     },
     "execution_count": 1,
     "metadata": {},
     "output_type": "execute_result"
    }
   ],
   "source": [
    "# Secp256k1\n",
    "p = 0xfffffffffffffffffffffffffffffffffffffffffffffffffffffffefffffc2f\n",
    "Fp = GF(p)\n",
    "pA = Fp(0x0000000000000000000000000000000000000000000000000000000000000000)\n",
    "pB = Fp(0x0000000000000000000000000000000000000000000000000000000000000007)\n",
    "Ep = EllipticCurve(Fp, (pA, pB))\n",
    "G = Ep(0x79be667ef9dcbbac55a06295ce870b07029bfcdb2dce28d959f2815b16f81798, 0x483ada7726a3c4655da4fbfc0e1108a8fd17b448a68554199c47d08ffb10d4b8)\n",
    "Ep.set_order(0xfffffffffffffffffffffffffffffffebaaedce6af48a03bbfd25e8cd0364141 * 0x1)\n",
    "\n",
    "# Secq256k1\n",
    "q = 0xfffffffffffffffffffffffffffffffebaaedce6af48a03bbfd25e8cd0364141\n",
    "Fq = GF(q)\n",
    "qA = Fq(0x0000000000000000000000000000000000000000000000000000000000000000)\n",
    "qB = Fq(0x0000000000000000000000000000000000000000000000000000000000000007)\n",
    "Eq = EllipticCurve(Fq, (qA, qB)) # secq256k1\n",
    "\n",
    "\n",
    "print(2**256-2**32-2**9 -2**8 - 2**7 - 2**6 - 2**4 - 1)\n",
    "print(\"p=\",p)\n",
    "print(\"q=\",q)\n",
    "\n",
    "\n",
    "2**256-2**32-2**9 -2**8 - 2**7 - 2**6 - 2**4 - 1"
   ]
  },
  {
   "cell_type": "code",
   "execution_count": 2,
   "id": "e9d3f2af",
   "metadata": {},
   "outputs": [
    {
     "data": {
      "text/plain": [
       "115792089237316195423570985008687907852837564279074904382605163141518161494337"
      ]
     },
     "execution_count": 2,
     "metadata": {},
     "output_type": "execute_result"
    }
   ],
   "source": [
    "\n",
    "import hashlib\n",
    "F = FiniteField(2**256-2**32-2**9 -2**8 - 2**7 - 2**6 - 2**4 - 1)\n",
    "a  = 0\n",
    "b  = 7\n",
    "\n",
    "\n",
    "n  = 115792089237316195423570985008687907852837564279074904382605163141518161494337\n",
    "h  = 1\n",
    "Fn = FiniteField(n)\n",
    "\n",
    "def hashit(msg):  \n",
    "   return Integer('0x' + hashlib.sha256(msg.encode()).hexdigest())\n",
    "\n",
    "def keygen():\n",
    "  d = randint(1, n - 1)\n",
    "  Q = d * G\n",
    "  return (Q, d)\n",
    "\n",
    "def ecdsa_sign(d, m):\n",
    "  r = 0\n",
    "  s = 0\n",
    "  while s == 0:\n",
    "    k = 1\n",
    "    while r == 0:\n",
    "      k = randint(1, n - 1)\n",
    "      Q = k * G\n",
    "      (x1, y1) = Q.xy()\n",
    "      r = Fn(x1)\n",
    "    \n",
    "    s = Fn(k) ^ (-1) * (m + d * r)\n",
    "  return [r, s]\n",
    "\n",
    "def ecdsa_verify(Q, m, r, s):\n",
    "  e = m\n",
    "  w = s ^ (-1)\n",
    "  u1 = (e * w)\n",
    "  u2 = (r * w)\n",
    "  P1 = Integer(u1) * G\n",
    "  P2 = Integer(u2) * Q\n",
    "  X = P1 + P2\n",
    "  (x, y) = X.xy()\n",
    "  v = Fn(x)\n",
    "  return v == r\n",
    "\n",
    "\n",
    "\n",
    "\"\"\"\n",
    "(Q, d) = keygen()\n",
    "m = 'My Message'\n",
    "\n",
    "[r, s] = ecdsa_sign(d, m)\n",
    "result = ecdsa_verify(Q, m, r, s)\n",
    "\n",
    "print (f\"Message: {m}\")\n",
    "print (f\"Public Key: {Q.xy()}\")\n",
    "print (f\"Private Key: {d}\")\n",
    "\n",
    "print (\"=== Signature ===\")\n",
    "print (f\" r = {r}\")\n",
    "print (f\" s = {s}\")\n",
    "print (f\"Verification: {result}\")\n",
    "\"\"\"\n",
    "F\n",
    "q\n"
   ]
  },
  {
   "cell_type": "code",
   "execution_count": 3,
   "id": "ffdf74ea",
   "metadata": {},
   "outputs": [
    {
     "name": "stdout",
     "output_type": "stream",
     "text": [
      "The original message is : 1703459910, 0x631438556b66c4908579Eab920dc162FF58958ea, Brad, Pitt, brad.pitt@gmail.com\n",
      "The string after binary conversion : 001100010011011100110000001100110011010000110101001110010011100100110001001100000010110000100000001100000111100000110110001100110011000100110100001100110011100000110101001101010011011001100010001101100011011001100011001101000011100100110000001110000011010100110111001110010100010101100001011000100011100100110010001100000110010001100011001100010011011000110010010001100100011000110101001110000011100100110101001110000110010101100001001011000010000001000010011100100110000101100100001011000010000001010000011010010111010001110100001011000010000001100010011100100110000101100100001011100111000001101001011101000111010001000000011001110110110101100001011010010110110000101110011000110110111101101101\n"
     ]
    }
   ],
   "source": [
    "test_m = '1703459910, 0x631438556b66c4908579Eab920dc162FF58958ea, Brad, Pitt, brad.pitt@gmail.com'\n",
    "print(\"The original message is : \" + str(test_m))\n",
    " \n",
    "res = ''.join(format(ord(i), '08b') for i in test_m)\n",
    "print(\"The string after binary conversion : \" + str(res))\n",
    "\n",
    "test_m_binary = b'0011000100110111001100000011001100110100001101010011100100111001001100010011000000101100001000000011000001111000001101100011001100110001001101000011001100111000001101010011010100110110011000100011011000110110011000110011010000111001001100000011100000110101001101110011100101000101011000010110001000111001001100100011000001100100011000110011000100110110001100100100011001000110001101010011100000111001001101010011100001100101011000010010110000100000010000100111001001100001011001000010110000100000010100000110100101110100011101000010110000100000011000100111001001100001011001000010111001110000011010010111010001110100010000000110011101101101011000010110100101101100001011100110001101101111011011010000000000000000000000000000000000000000000000000000000000000000000000000000000000000000000000000000000000000000000000000000000000000000000000000000000000000000000000000000000000000000000000000000000000000000000000000000000000000000000000000000000000000000000000000000000000000000000000000000000000000000000000000000000000000'\n",
    "\n",
    "test_m_hex = '313730333435393931302C203078363331343338353536623636633439303835373945616239323064633136324646353839353865612C20427261642C20506974742C20627261642E7069747440676D61696C2E636F6D0000000000000000000000000000000000000000000000000000000000000000000000000000000000'\n",
    "\n",
    "test_m_binary_padded = '0011000100110111001100000011001100110100001101010011100100111001001100010011000000101100001000000011000001111000001101100011001100110001001101000011001100111000001101010011010100110110011000100011011000110110011000110011010000111001001100000011100000110101001101110011100101000101011000010110001000111001001100100011000001100100011000110011000100110110001100100100011001000110001101010011100000111001001101010011100001100101011000010010110000100000010000100111001001100001011001000010110000100000010100000110100101110100011101000010110000100000011000100111001001100001011001000010111001110000011010010111010001110100010000000110011101101101011000010110100101101100001011100110001101101111011011010000000000000000000000000000000000000000000000000000000000000000000000000000000000000000000000000000000000000000000000000000000000000000000000000000000000000000000000000000000000000000000000000000000000000000000000000000000000000000000000000000000000000000000000000000000000000000000000000000000000000000000000000000000000000000'"
   ]
  },
  {
   "cell_type": "code",
   "execution_count": 4,
   "id": "80d74ee4",
   "metadata": {},
   "outputs": [
    {
     "data": {
      "text/plain": [
       "68817205864308293907528597922759244772402443555815388857508475582068884901806"
      ]
     },
     "execution_count": 4,
     "metadata": {},
     "output_type": "execute_result"
    }
   ],
   "source": [
    "test_m1_binary = b'0011000100110111001100000011001100110100001101010011100100111001001100010011010100101100001000000011000001111000001101100011001100110001001101000011001100111000001101010011010100110110011000100011011000110110011000110011010000111001001100000011100000110101001101110011100101000101011000010110001000111001001100100011000001100100011000110011000100110110001100100100011001000110001101010011100000111001001101010011100001100101011000010010110000100000010000100111001001100001011001000010110000100000010100000110100101110100011101000010110000100000011000100111001001100001011001000010111001110000011010010111010001110100010000000110011101101101011000010110100101101100001011100110001101101111011011010000000000000000000000000000000000000000000000000000000000000000000000000000000000000000000000000000000000000000000000000000000000000000000000000000000000000000000000000000000000000000000000000000000000000000000000000000000000000000000000000000000000000000000000000000000000000000000000000000000000000000000000000000000000000000'\n",
    "test_m1_hex = '313730333435393931352C203078363331343338353536623636633439303835373945616239323064633136324646353839353865612C20427261642C20506974742C20627261642E7069747440676D61696C2E636F6D0000000000000000000000000000000000000000000000000000000000000000000000000000000000'\n",
    "hash_message_2 = '98252880a6701ad0fa8db255c90912237c77da40ba584a4376ca639b017e0fae'\n",
    "\n",
    "hash_message_2_decimal = int(hash_message_2,16)\n",
    "hash_message_2_decimal\n",
    "#Fp(hash_message_2_decimal)"
   ]
  },
  {
   "cell_type": "code",
   "execution_count": 5,
   "id": "0e3fa958",
   "metadata": {},
   "outputs": [
    {
     "data": {
      "text/plain": [
       "(66316429781420744252822374744820689835145332024891963967873091348586862539976 : 37268868312598499233758671049348650843902798655509145540489126527750004847832 : 1)"
      ]
     },
     "execution_count": 5,
     "metadata": {},
     "output_type": "execute_result"
    }
   ],
   "source": [
    "priv_key = 0x2f2172a54d72d7c2b5094f1c36095c55953f293309d45e11576c7f4ce29493d2\n",
    "\n",
    "pub_key = priv_key*G\n",
    "\n",
    "pub_key\n"
   ]
  },
  {
   "cell_type": "code",
   "execution_count": 23,
   "id": "7d684906",
   "metadata": {},
   "outputs": [],
   "source": [
    "hash_message = 0x9e1d4c5dc7c5a0196d5d516ad5918c4eeee75df2daf6b8a55434df624b6771e3"
   ]
  },
  {
   "cell_type": "code",
   "execution_count": 24,
   "id": "53f9d6bb",
   "metadata": {},
   "outputs": [
    {
     "name": "stdout",
     "output_type": "stream",
     "text": [
      "Fp(hash_message) 71517195702070503047587663572059753726493644059415185349259027346457281130979\n"
     ]
    }
   ],
   "source": [
    "hash_message = '9e1d4c5dc7c5a0196d5d516ad5918c4eeee75df2daf6b8a55434df624b6771e3'\n",
    "\n",
    "hash_message_decimal = int(hash_message,16)\n",
    "hash_message_decimal\n",
    "\n",
    "print(\"Fp(hash_message)\",Fp(hash_message_decimal))"
   ]
  },
  {
   "cell_type": "code",
   "execution_count": 23,
   "id": "b4d00145",
   "metadata": {},
   "outputs": [
    {
     "name": "stdout",
     "output_type": "stream",
     "text": [
      "=== Signature ===\n",
      " r = 78387267511148526934685477353271409804665679447672279353207747277315125313196\n",
      " s = 49286413301445824493764732885500398351970446397343425532874480282566349674026\n"
     ]
    }
   ],
   "source": [
    "[r,s] = ecdsa_sign(priv_key,hash_message_2_decimal)\n",
    "print (\"=== Signature ===\")\n",
    "print (f\" r = {r}\")\n",
    "print (f\" s = {s}\")"
   ]
  },
  {
   "cell_type": "code",
   "execution_count": 7,
   "id": "39e1d6a5",
   "metadata": {},
   "outputs": [
    {
     "data": {
      "text/plain": [
       "True"
      ]
     },
     "execution_count": 7,
     "metadata": {},
     "output_type": "execute_result"
    }
   ],
   "source": [
    "ecdsa_verify(pub_key,hash_message_2_decimal,r,s)\n"
   ]
  },
  {
   "cell_type": "code",
   "execution_count": 8,
   "id": "69e5a083",
   "metadata": {},
   "outputs": [
    {
     "name": "stdout",
     "output_type": "stream",
     "text": [
      "74789837508761605502572505721322905229477561492875846560948993854787011081789 30136135694892932919242124815260682011178653089568991147396173189101791427017\n"
     ]
    }
   ],
   "source": [
    "print(r,s)"
   ]
  },
  {
   "cell_type": "code",
   "execution_count": 14,
   "id": "9afc3d62",
   "metadata": {},
   "outputs": [
    {
     "ename": "AttributeError",
     "evalue": "'sage.rings.finite_rings.integer_mod.IntegerMod_gmp' object has no attribute 'type'",
     "output_type": "error",
     "traceback": [
      "\u001b[0;31m---------------------------------------------------------------------------\u001b[0m",
      "\u001b[0;31mAttributeError\u001b[0m                            Traceback (most recent call last)",
      "\u001b[0;32m/tmp/ipykernel_4338/1065487108.py\u001b[0m in \u001b[0;36m<module>\u001b[0;34m\u001b[0m\n\u001b[1;32m      1\u001b[0m \u001b[0mecdsa_verify\u001b[0m\u001b[0;34m(\u001b[0m\u001b[0mpub_key\u001b[0m\u001b[0;34m,\u001b[0m\u001b[0mhash_message_2_decimal\u001b[0m\u001b[0;34m,\u001b[0m\u001b[0mr\u001b[0m\u001b[0;34m,\u001b[0m\u001b[0ms\u001b[0m\u001b[0;34m)\u001b[0m\u001b[0;34m\u001b[0m\u001b[0;34m\u001b[0m\u001b[0m\n\u001b[0;32m----> 2\u001b[0;31m \u001b[0ms\u001b[0m\u001b[0;34m.\u001b[0m\u001b[0mtype\u001b[0m\u001b[0;34m(\u001b[0m\u001b[0;34m)\u001b[0m\u001b[0;34m\u001b[0m\u001b[0;34m\u001b[0m\u001b[0m\n\u001b[0m",
      "\u001b[0;32m/usr/lib/python3/dist-packages/sage/structure/element.pyx\u001b[0m in \u001b[0;36msage.structure.element.Element.__getattr__ (build/cythonized/sage/structure/element.c:4827)\u001b[0;34m()\u001b[0m\n\u001b[1;32m    492\u001b[0m             \u001b[0mAttributeError\u001b[0m\u001b[0;34m:\u001b[0m \u001b[0;34m'LeftZeroSemigroup_with_category.element_class'\u001b[0m \u001b[0mobject\u001b[0m \u001b[0mhas\u001b[0m \u001b[0mno\u001b[0m \u001b[0mattribute\u001b[0m \u001b[0;34m'blah_blah'\u001b[0m\u001b[0;34m\u001b[0m\u001b[0;34m\u001b[0m\u001b[0m\n\u001b[1;32m    493\u001b[0m         \"\"\"\n\u001b[0;32m--> 494\u001b[0;31m         \u001b[0;32mreturn\u001b[0m \u001b[0mself\u001b[0m\u001b[0;34m.\u001b[0m\u001b[0mgetattr_from_category\u001b[0m\u001b[0;34m(\u001b[0m\u001b[0mname\u001b[0m\u001b[0;34m)\u001b[0m\u001b[0;34m\u001b[0m\u001b[0;34m\u001b[0m\u001b[0m\n\u001b[0m\u001b[1;32m    495\u001b[0m \u001b[0;34m\u001b[0m\u001b[0m\n\u001b[1;32m    496\u001b[0m     \u001b[0mcdef\u001b[0m \u001b[0mgetattr_from_category\u001b[0m\u001b[0;34m(\u001b[0m\u001b[0mself\u001b[0m\u001b[0;34m,\u001b[0m \u001b[0mname\u001b[0m\u001b[0;34m)\u001b[0m\u001b[0;34m:\u001b[0m\u001b[0;34m\u001b[0m\u001b[0;34m\u001b[0m\u001b[0m\n",
      "\u001b[0;32m/usr/lib/python3/dist-packages/sage/structure/element.pyx\u001b[0m in \u001b[0;36msage.structure.element.Element.getattr_from_category (build/cythonized/sage/structure/element.c:4939)\u001b[0;34m()\u001b[0m\n\u001b[1;32m    505\u001b[0m         \u001b[0;32melse\u001b[0m\u001b[0;34m:\u001b[0m\u001b[0;34m\u001b[0m\u001b[0;34m\u001b[0m\u001b[0m\n\u001b[1;32m    506\u001b[0m             \u001b[0mcls\u001b[0m \u001b[0;34m=\u001b[0m \u001b[0mP\u001b[0m\u001b[0;34m.\u001b[0m\u001b[0m_abstract_element_class\u001b[0m\u001b[0;34m\u001b[0m\u001b[0;34m\u001b[0m\u001b[0m\n\u001b[0;32m--> 507\u001b[0;31m         \u001b[0;32mreturn\u001b[0m \u001b[0mgetattr_from_other_class\u001b[0m\u001b[0;34m(\u001b[0m\u001b[0mself\u001b[0m\u001b[0;34m,\u001b[0m \u001b[0mcls\u001b[0m\u001b[0;34m,\u001b[0m \u001b[0mname\u001b[0m\u001b[0;34m)\u001b[0m\u001b[0;34m\u001b[0m\u001b[0;34m\u001b[0m\u001b[0m\n\u001b[0m\u001b[1;32m    508\u001b[0m \u001b[0;34m\u001b[0m\u001b[0m\n\u001b[1;32m    509\u001b[0m     \u001b[0;32mdef\u001b[0m \u001b[0m__dir__\u001b[0m\u001b[0;34m(\u001b[0m\u001b[0mself\u001b[0m\u001b[0;34m)\u001b[0m\u001b[0;34m:\u001b[0m\u001b[0;34m\u001b[0m\u001b[0;34m\u001b[0m\u001b[0m\n",
      "\u001b[0;32m/usr/lib/python3/dist-packages/sage/cpython/getattr.pyx\u001b[0m in \u001b[0;36msage.cpython.getattr.getattr_from_other_class (build/cythonized/sage/cpython/getattr.c:2703)\u001b[0;34m()\u001b[0m\n\u001b[1;32m    359\u001b[0m         \u001b[0mdummy_error_message\u001b[0m\u001b[0;34m.\u001b[0m\u001b[0mcls\u001b[0m \u001b[0;34m=\u001b[0m \u001b[0mtype\u001b[0m\u001b[0;34m(\u001b[0m\u001b[0mself\u001b[0m\u001b[0;34m)\u001b[0m\u001b[0;34m\u001b[0m\u001b[0;34m\u001b[0m\u001b[0m\n\u001b[1;32m    360\u001b[0m         \u001b[0mdummy_error_message\u001b[0m\u001b[0;34m.\u001b[0m\u001b[0mname\u001b[0m \u001b[0;34m=\u001b[0m \u001b[0mname\u001b[0m\u001b[0;34m\u001b[0m\u001b[0;34m\u001b[0m\u001b[0m\n\u001b[0;32m--> 361\u001b[0;31m         \u001b[0;32mraise\u001b[0m \u001b[0mAttributeError\u001b[0m\u001b[0;34m(\u001b[0m\u001b[0mdummy_error_message\u001b[0m\u001b[0;34m)\u001b[0m\u001b[0;34m\u001b[0m\u001b[0;34m\u001b[0m\u001b[0m\n\u001b[0m\u001b[1;32m    362\u001b[0m     \u001b[0mattribute\u001b[0m \u001b[0;34m=\u001b[0m \u001b[0;34m<\u001b[0m\u001b[0mobject\u001b[0m\u001b[0;34m>\u001b[0m\u001b[0mattr\u001b[0m\u001b[0;34m\u001b[0m\u001b[0;34m\u001b[0m\u001b[0m\n\u001b[1;32m    363\u001b[0m     \u001b[0;31m# Check for a descriptor (__get__ in Python)\u001b[0m\u001b[0;34m\u001b[0m\u001b[0;34m\u001b[0m\u001b[0m\n",
      "\u001b[0;31mAttributeError\u001b[0m: 'sage.rings.finite_rings.integer_mod.IntegerMod_gmp' object has no attribute 'type'"
     ]
    }
   ],
   "source": [
    "ecdsa_verify(pub_key,hash_message_2_decimal,r,s)\n"
   ]
  },
  {
   "cell_type": "code",
   "execution_count": 11,
   "id": "7e2cb46f",
   "metadata": {},
   "outputs": [
    {
     "data": {
      "text/plain": [
       "68817205864308293907528597922759244772402443555815388857508475582068884901806"
      ]
     },
     "execution_count": 11,
     "metadata": {},
     "output_type": "execute_result"
    }
   ],
   "source": [
    "hash_message_2_decimal"
   ]
  },
  {
   "cell_type": "code",
   "execution_count": 25,
   "id": "85f57616",
   "metadata": {},
   "outputs": [
    {
     "name": "stdout",
     "output_type": "stream",
     "text": [
      "r_Inverse 19258753034670813400200401429613462429555373337722490590881195648447513473682\n",
      "r= 78387267511148526934685477353271409804665679447672279353207747277315125313196\n",
      "s = 49286413301445824493764732885500398351970446397343425532874480282566349674026\n",
      "(T_x,T_y)=( 49787165871081221187037669526324589035044963638069233717434897661775457522978 , 57958886241230833703267000730845701720216895839608528874475334473243482970140 )\n",
      "(U_x,U_y)=( 10586804966779829132049214199706811260599581979603930793736836436891659255547 , 18165921137532008572790345788534311304000868308056504841298116260006283297142 )\n",
      "R= (78387267511148526934685477353271409804665679447672279353207747277315125313196 : 65746284535111986898331436098211935208858671527482041803387669139439801150105 : 1)\n",
      "T= (49787165871081221187037669526324589035044963638069233717434897661775457522978 : 57958886241230833703267000730845701720216895839608528874475334473243482970140 : 1)\n",
      "U= (10586804966779829132049214199706811260599581979603930793736836436891659255547 : 18165921137532008572790345788534311304000868308056504841298116260006283297142 : 1)\n"
     ]
    },
    {
     "data": {
      "text/plain": [
       "(66316429781420744252822374744820689835145332024891963967873091348586862539976 : 37268868312598499233758671049348650843902798655509145540489126527750004847832 : 1)"
      ]
     },
     "execution_count": 25,
     "metadata": {},
     "output_type": "execute_result"
    }
   ],
   "source": [
    "#Efficient ECDSA format is (s,Tx,Ty,Ux,Uy,pubX,pubY)\n",
    "#w  = -(r^-1 * msg_hash )\n",
    "#U = (w*G) = -(r^-1 * msg* G)\n",
    "#R = Point on Elliptic Curve with X-Coordinate r \n",
    "#T = r^-1 * R\n",
    "#r = Fq(67593890210805673021439275189123326597695449354024286588270023233823234345308)\n",
    "#s = Fq(3663589190579974598497614240746634132640354697006347998708741438251545735830)\n",
    "r_inverse = inverse_mod(int(r),q)\n",
    "print(\"r_Inverse\", r_inverse)\n",
    "w = -r_inverse * hash_message_2_decimal\n",
    "w = w \n",
    "U = w * G\n",
    "R = Ep.lift_x(Fp(r))\n",
    "R_x = R[0]\n",
    "R_y = R[1]\n",
    "T = r_inverse * R\n",
    "T_x = T[0]\n",
    "T_y = T[1]\n",
    "U_x = U[0]\n",
    "U_y = U[1]\n",
    "print(\"r=\",r)\n",
    "print(\"s =\",s)\n",
    "print(\"(T_x,T_y)=(\",T_x,\",\",T_y,\")\")\n",
    "print(\"(U_x,U_y)=(\",U_x,\",\",U_y,\")\")\n",
    "print(\"R=\",R)\n",
    "print(\"T=\",T)\n",
    "print(\"U=\",U)\n",
    "\n",
    "temp_s = 49286413301445824493764732885500398351970446397343425532874480282566349674026\n",
    "temp_s* T + U \n"
   ]
  },
  {
   "cell_type": "code",
   "execution_count": 79,
   "id": "8f7e70e7",
   "metadata": {},
   "outputs": [
    {
     "data": {
      "text/plain": [
       "(66316429781420744252822374744820689835145332024891963967873091348586862539976 : 37268868312598499233758671049348650843902798655509145540489126527750004847832 : 1)"
      ]
     },
     "execution_count": 79,
     "metadata": {},
     "output_type": "execute_result"
    }
   ],
   "source": [
    "pub_key"
   ]
  },
  {
   "cell_type": "code",
   "execution_count": 37,
   "id": "8c3c2cb1",
   "metadata": {},
   "outputs": [
    {
     "ename": "NameError",
     "evalue": "name 'hash_messsage_2_decimal' is not defined",
     "output_type": "error",
     "traceback": [
      "\u001b[0;31m---------------------------------------------------------------------------\u001b[0m",
      "\u001b[0;31mNameError\u001b[0m                                 Traceback (most recent call last)",
      "\u001b[0;32m/tmp/ipykernel_1047/360635342.py\u001b[0m in \u001b[0;36m<module>\u001b[0;34m\u001b[0m\n\u001b[0;32m----> 1\u001b[0;31m \u001b[0mhash_messsage_2_decimal\u001b[0m\u001b[0;34m\u001b[0m\u001b[0;34m\u001b[0m\u001b[0m\n\u001b[0m",
      "\u001b[0;31mNameError\u001b[0m: name 'hash_messsage_2_decimal' is not defined"
     ]
    }
   ],
   "source": [
    "hash_messsage_"
   ]
  },
  {
   "cell_type": "code",
   "execution_count": null,
   "id": "d52f391e",
   "metadata": {},
   "outputs": [],
   "source": []
  },
  {
   "cell_type": "code",
   "execution_count": 34,
   "id": "8f90426e",
   "metadata": {},
   "outputs": [
    {
     "data": {
      "text/plain": [
       "(80423721835120459429412911656321994492149980178601565794664800594536094198650 : 45551016314731384518453176721975263549908113339598312884413368048275085623472 : 1)"
      ]
     },
     "execution_count": 34,
     "metadata": {},
     "output_type": "execute_result"
    }
   ],
   "source": [
    "temp = -r_inverse * hash_message_2_decimal  \n",
    "\n",
    "\n",
    "temp*G\n",
    "\n",
    "\n"
   ]
  },
  {
   "cell_type": "code",
   "execution_count": 64,
   "id": "9880ba09",
   "metadata": {},
   "outputs": [
    {
     "data": {
      "text/plain": [
       "5827542974853635922205193225510230345443287737019294244905648782786748292217"
      ]
     },
     "execution_count": 64,
     "metadata": {},
     "output_type": "execute_result"
    }
   ],
   "source": [
    "Fp(temp) "
   ]
  },
  {
   "cell_type": "code",
   "execution_count": 115,
   "id": "d9236009",
   "metadata": {},
   "outputs": [
    {
     "data": {
      "text/plain": [
       "11655085949707271844410386451020460690886575474038588489811297565573496584434"
      ]
     },
     "execution_count": 115,
     "metadata": {},
     "output_type": "execute_result"
    }
   ],
   "source": [
    "mod(w + 5827542974853635922205193225510230345443287737019294244905648782786748292217,p)"
   ]
  },
  {
   "cell_type": "code",
   "execution_count": 124,
   "id": "cbbf383f",
   "metadata": {},
   "outputs": [
    {
     "data": {
      "text/plain": [
       "(76687657958941805520386433286768779743980205779229098210686759590824855697214 : 52600362045055470035847460082062586073721917965477895682855846117751145607114 : 1)"
      ]
     },
     "execution_count": 124,
     "metadata": {},
     "output_type": "execute_result"
    }
   ],
   "source": [
    "r1 = hash_message_decimal * G \n",
    "r1"
   ]
  },
  {
   "cell_type": "code",
   "execution_count": 132,
   "id": "abe3d756",
   "metadata": {},
   "outputs": [
    {
     "data": {
      "text/plain": [
       "115792089237316195423570985008687907852837564279074904382605163141518161494337"
      ]
     },
     "execution_count": 132,
     "metadata": {},
     "output_type": "execute_result"
    }
   ],
   "source": [
    "q"
   ]
  },
  {
   "cell_type": "code",
   "execution_count": 131,
   "id": "b0d85b0a",
   "metadata": {},
   "outputs": [
    {
     "data": {
      "text/plain": [
       "(30304341961937615136151410748537015901070481690789957880759875086003496238576 : 94737429270188580733981682519122855402655819228206347230691544532852192205064 : 1)"
      ]
     },
     "execution_count": 131,
     "metadata": {},
     "output_type": "execute_result"
    }
   ],
   "source": [
    "15019307357436194040754673847561233100426024549148595232734819226362529418197 * r1"
   ]
  },
  {
   "cell_type": "code",
   "execution_count": 127,
   "id": "decb60f8",
   "metadata": {},
   "outputs": [
    {
     "data": {
      "text/plain": [
       "(30304341961937615136151410748537015901070481690789957880759875086003496238576 : 94737429270188580733981682519122855402655819228206347230691544532852192205064 : 1)"
      ]
     },
     "execution_count": 127,
     "metadata": {},
     "output_type": "execute_result"
    }
   ],
   "source": [
    "r2 = -r_inverse *r1\n",
    "r2"
   ]
  },
  {
   "cell_type": "code",
   "execution_count": 126,
   "id": "96753edf",
   "metadata": {},
   "outputs": [
    {
     "data": {
      "text/plain": [
       "-100772781879880001382816311161126674752411539729926309149870343915155632076140"
      ]
     },
     "execution_count": 126,
     "metadata": {},
     "output_type": "execute_result"
    }
   ],
   "source": [
    "-r_inverse"
   ]
  },
  {
   "cell_type": "code",
   "execution_count": 99,
   "id": "58fcfdbb",
   "metadata": {},
   "outputs": [],
   "source": [
    "w_dash = w%q"
   ]
  },
  {
   "cell_type": "code",
   "execution_count": 101,
   "id": "0f384494",
   "metadata": {},
   "outputs": [
    {
     "data": {
      "text/plain": [
       "(30304341961937615136151410748537015901070481690789957880759875086003496238576 : 94737429270188580733981682519122855402655819228206347230691544532852192205064 : 1)"
      ]
     },
     "execution_count": 101,
     "metadata": {},
     "output_type": "execute_result"
    }
   ],
   "source": [
    "w_dash * G"
   ]
  },
  {
   "cell_type": "code",
   "execution_count": 112,
   "id": "c034e7a3",
   "metadata": {},
   "outputs": [
    {
     "data": {
      "text/plain": [
       "5827542974853635922205193225510230345443287737019294244905648782786748292217"
      ]
     },
     "execution_count": 112,
     "metadata": {},
     "output_type": "execute_result"
    }
   ],
   "source": [
    "x1 = (w % p) \n",
    "x1"
   ]
  },
  {
   "cell_type": "code",
   "execution_count": 110,
   "id": "ef9f7c2b",
   "metadata": {},
   "outputs": [],
   "source": [
    "x2 = p % q"
   ]
  },
  {
   "cell_type": "code",
   "execution_count": 111,
   "id": "7f4080a8",
   "metadata": {},
   "outputs": [
    {
     "data": {
      "text/plain": [
       "5827542974853635922205193225510230345875708123584953901758069649177421469543"
      ]
     },
     "execution_count": 111,
     "metadata": {},
     "output_type": "execute_result"
    }
   ],
   "source": [
    "x1+x2"
   ]
  },
  {
   "cell_type": "code",
   "execution_count": 113,
   "id": "377e92ef",
   "metadata": {},
   "outputs": [
    {
     "data": {
      "text/plain": [
       "(45560418925316953420566035837603499546269473797558139280075426166619968370634 : 45306865043429005766480800969446692925823330840536462604716783284088083758957 : 1)"
      ]
     },
     "execution_count": 113,
     "metadata": {},
     "output_type": "execute_result"
    }
   ],
   "source": []
  },
  {
   "cell_type": "code",
   "execution_count": 105,
   "id": "211a6066",
   "metadata": {},
   "outputs": [
    {
     "data": {
      "text/plain": [
       "(14402253248664741430017090242954490268349381185500430296919405877694981749880 : 8515383119478520734142533736656616254939881452861244125508198000360637980781 : 1)"
      ]
     },
     "execution_count": 105,
     "metadata": {},
     "output_type": "execute_result"
    }
   ],
   "source": [
    "12161963221216983134577617823419813819828085201609419862751081192430490978655 * G"
   ]
  },
  {
   "cell_type": "code",
   "execution_count": 84,
   "id": "20a2edc9",
   "metadata": {},
   "outputs": [
    {
     "data": {
      "text/plain": [
       "(30304341961937615136151410748537015901070481690789957880759875086003496238576 : 94737429270188580733981682519122855402655819228206347230691544532852192205064 : 1)"
      ]
     },
     "execution_count": 84,
     "metadata": {},
     "output_type": "execute_result"
    }
   ],
   "source": [
    "49065419389350486231928896450340323881296752328529517119507575345805737480891 * G"
   ]
  },
  {
   "cell_type": "code",
   "execution_count": 96,
   "id": "34b4351c",
   "metadata": {},
   "outputs": [
    {
     "data": {
      "text/plain": [
       "(436621147399836810681771981630419618281133628879548722206171911913740066279 : 92486777497879510869770423435087366160520965910050115769368384463823469777730 : 1)"
      ]
     },
     "execution_count": 96,
     "metadata": {},
     "output_type": "execute_result"
    }
   ],
   "source": [
    "U1 = 5827542974853635922205193225510230345443287737019294244905648782786748292217 * G\n",
    "U1 + 48040442883402390498140677234105648176008923842845382194351710108461080825810*T"
   ]
  },
  {
   "cell_type": "code",
   "execution_count": 90,
   "id": "c2ac6352",
   "metadata": {},
   "outputs": [
    {
     "data": {
      "text/plain": [
       "121619632212169831345776178234198138198713272402659858284363232790695582963880"
      ]
     },
     "execution_count": 90,
     "metadata": {},
     "output_type": "execute_result"
    }
   ],
   "source": [
    "5827542974853635922205193225510230345443287737019294244905648782786748292217 + p"
   ]
  },
  {
   "cell_type": "code",
   "execution_count": 91,
   "id": "adac7307",
   "metadata": {},
   "outputs": [
    {
     "data": {
      "text/plain": [
       "(45560418925316953420566035837603499546269473797558139280075426166619968370634 : 45306865043429005766480800969446692925823330840536462604716783284088083758957 : 1)"
      ]
     },
     "execution_count": 91,
     "metadata": {},
     "output_type": "execute_result"
    }
   ],
   "source": [
    "121619632212169831345776178234198138198713272402659858284363232790695582963880 * G"
   ]
  },
  {
   "cell_type": "code",
   "execution_count": 36,
   "id": "63f14e3f",
   "metadata": {},
   "outputs": [
    {
     "data": {
      "text/plain": [
       "1078512639552489412863655231358809307504469788725184366947688361987497434921"
      ]
     },
     "execution_count": 36,
     "metadata": {},
     "output_type": "execute_result"
    }
   ],
   "source": [
    "Fp(57896044618658097711785492504343953926634992332820282019728792003956564819968 * -r_inverse)\n",
    "has"
   ]
  },
  {
   "cell_type": "code",
   "execution_count": 37,
   "id": "09f58f41",
   "metadata": {},
   "outputs": [
    {
     "data": {
      "text/plain": [
       "71517195702070503047587663572059753726493644059415185349259027346457281130979"
      ]
     },
     "execution_count": 37,
     "metadata": {},
     "output_type": "execute_result"
    }
   ],
   "source": [
    "hash_message_decimal"
   ]
  },
  {
   "cell_type": "code",
   "execution_count": 21,
   "id": "13a51dba",
   "metadata": {},
   "outputs": [
    {
     "data": {
      "text/plain": [
       "(55066263022277343669578718895168534326250603453777594175500187360389116729240 : 32670510020758816978083085130507043184471273380659243275938904335757337482424 : 1)"
      ]
     },
     "execution_count": 21,
     "metadata": {},
     "output_type": "execute_result"
    }
   ],
   "source": [
    "G"
   ]
  },
  {
   "cell_type": "code",
   "execution_count": 19,
   "id": "6b75da83",
   "metadata": {},
   "outputs": [
    {
     "name": "stdout",
     "output_type": "stream",
     "text": [
      "w =  5827542974853635922205193225510230345443287737019294244905648782786748292217\n"
     ]
    },
    {
     "data": {
      "text/plain": [
       "(97351417631787478642805398834010270511088397292291465765329831506444819368658 : 818039863063379548742816902042090977608862211137828826474116701914084402135 : 1)"
      ]
     },
     "execution_count": 19,
     "metadata": {},
     "output_type": "execute_result"
    }
   ],
   "source": [
    "print(\"w = \",mod(temp,p))\n",
    "r_inverse\n",
    "temp\n",
    "hash_message_decimal\n",
    "tttt = mod(-r_inverse*102875383259003572609063200419982038970200206676251286079899780742885241789854,p)\n",
    "74126691967906589854921940623319146403885599241116747204791177680751108856862*G"
   ]
  },
  {
   "cell_type": "code",
   "execution_count": 87,
   "id": "f692024b",
   "metadata": {},
   "outputs": [
    {
     "data": {
      "text/plain": [
       "(6068874880788258252861454404719372726844856541774302868831386669272518239867 : 19454560639645815827344537721115769587059109404804453191811769697673319849451 : 1)"
      ]
     },
     "execution_count": 87,
     "metadata": {},
     "output_type": "execute_result"
    }
   ],
   "source": [
    "test = (115792089237316195423570985008687907852837564279074904382605163141518161494337 + 5827542974853635922205193225510230345443287737019294244905648782786748292217    )\n",
    "test*G"
   ]
  },
  {
   "cell_type": "code",
   "execution_count": 25,
   "id": "fca95758",
   "metadata": {},
   "outputs": [
    {
     "data": {
      "text/plain": [
       "110304641027575630118346297144289787774439966008846174674114360740128412652935"
      ]
     },
     "execution_count": 25,
     "metadata": {},
     "output_type": "execute_result"
    }
   ],
   "source": [
    "temp_var = mod(-r_inverse * 90262742221992290593129539566222549245793721380003534309920872733054843664505,p)\n",
    "temp_var"
   ]
  },
  {
   "cell_type": "code",
   "execution_count": 26,
   "id": "a1de5b3a",
   "metadata": {},
   "outputs": [
    {
     "data": {
      "text/plain": [
       "(63918295051990269409190687070898746423031807852330678730448839354565516461914 : 90560606039199692118502950150838387033213003644927922648468057035926999322350 : 1)"
      ]
     },
     "execution_count": 26,
     "metadata": {},
     "output_type": "execute_result"
    }
   ],
   "source": [
    "110304641027575630118346297144289787774439966008846174674114360740128412652935 * G"
   ]
  },
  {
   "cell_type": "code",
   "execution_count": 18,
   "id": "45dd09ba",
   "metadata": {},
   "outputs": [
    {
     "data": {
      "text/plain": [
       "(55066263022277343669578718895168534326250603453777594175500187360389116729240 : 32670510020758816978083085130507043184471273380659243275938904335757337482424 : 1)"
      ]
     },
     "execution_count": 18,
     "metadata": {},
     "output_type": "execute_result"
    }
   ],
   "source": [
    "G"
   ]
  },
  {
   "cell_type": "code",
   "execution_count": 19,
   "id": "d769a490",
   "metadata": {},
   "outputs": [
    {
     "data": {
      "text/plain": [
       "(55066263022277343669578718895168534326250603453777594175500187360389116729240 : 32670510020758816978083085130507043184471273380659243275938904335757337482424 : 1)"
      ]
     },
     "execution_count": 19,
     "metadata": {},
     "output_type": "execute_result"
    }
   ],
   "source": [
    "G"
   ]
  },
  {
   "cell_type": "code",
   "execution_count": 20,
   "id": "fbda6eea",
   "metadata": {},
   "outputs": [
    {
     "data": {
      "text/plain": [
       "(106113602741816650535882235137146375257002368253538737422461888998611143984565 : 84447009056258389134936678160873676856093103543250092510434930432703720038419 : 1)"
      ]
     },
     "execution_count": 20,
     "metadata": {},
     "output_type": "execute_result"
    }
   ],
   "source": [
    "w * G"
   ]
  },
  {
   "cell_type": "code",
   "execution_count": 21,
   "id": "a8d9ec4d",
   "metadata": {},
   "outputs": [
    {
     "data": {
      "text/plain": [
       "88370023574120850842936127967538062538192971763893664377150989084765095544307"
      ]
     },
     "execution_count": 21,
     "metadata": {},
     "output_type": "execute_result"
    }
   ],
   "source": [
    "r_inverse"
   ]
  },
  {
   "cell_type": "code",
   "execution_count": 22,
   "id": "cb0b6b90",
   "metadata": {},
   "outputs": [
    {
     "data": {
      "text/plain": [
       "-6319976270146984748310383922187767141310878912685915326733470173221950837961405610483383764216282664876656407213720379745672366384951134608265698564786553"
      ]
     },
     "execution_count": 22,
     "metadata": {},
     "output_type": "execute_result"
    }
   ],
   "source": [
    "w"
   ]
  },
  {
   "cell_type": "code",
   "execution_count": 7,
   "id": "32314a8a",
   "metadata": {},
   "outputs": [
    {
     "data": {
      "text/plain": [
       "R Interpreter"
      ]
     },
     "execution_count": 7,
     "metadata": {},
     "output_type": "execute_result"
    }
   ],
   "source": [
    "r"
   ]
  },
  {
   "cell_type": "code",
   "execution_count": 32,
   "id": "60ad8ad9",
   "metadata": {},
   "outputs": [],
   "source": [
    "ttt= inverse_mod(99203311233515356944939973109948126869678508995505611514577819855695946887125,n)"
   ]
  },
  {
   "cell_type": "code",
   "execution_count": 33,
   "id": "e7644ec1",
   "metadata": {},
   "outputs": [
    {
     "data": {
      "text/plain": [
       "64294871681577346661904190327640396372921565394789115762221171464340437352266"
      ]
     },
     "execution_count": 33,
     "metadata": {},
     "output_type": "execute_result"
    }
   ],
   "source": [
    "mod(-ttt,q)"
   ]
  },
  {
   "cell_type": "code",
   "execution_count": 35,
   "id": "ed582105",
   "metadata": {},
   "outputs": [
    {
     "data": {
      "text/plain": [
       "115792089237316195423570985008687907852837564279074904382605163141518161494337"
      ]
     },
     "execution_count": 35,
     "metadata": {},
     "output_type": "execute_result"
    }
   ],
   "source": [
    "n"
   ]
  },
  {
   "cell_type": "code",
   "execution_count": 36,
   "id": "69e586c7",
   "metadata": {},
   "outputs": [
    {
     "data": {
      "text/plain": [
       "69314242341802643715666725218700029163012022780808646336587847127313332656436"
      ]
     },
     "execution_count": 36,
     "metadata": {},
     "output_type": "execute_result"
    }
   ],
   "source": [
    "q - 46477846895513551707904259789987878689825541498266258046017316014204828837901"
   ]
  },
  {
   "cell_type": "code",
   "execution_count": 30,
   "id": "e8934970",
   "metadata": {},
   "outputs": [
    {
     "data": {
      "text/plain": [
       "30857640763268760973573547800603973061725525573048602384168131056804095127926"
      ]
     },
     "execution_count": 30,
     "metadata": {},
     "output_type": "execute_result"
    }
   ],
   "source": [
    "Sample_Message =  '0011000100110111001100000011001100110100001101010011100100111001001100010011000000101100001000000011000001111000001101100011001100110001001101000011001100111000001101010011010100110110011000100011011000110110011000110011010000111001001100000011100000110101001101110011100101000101011000010110001000111001001100100011000001100100011000110011000100110110001100100100011001000110001101010011100000111001001101010011100001100101011000010010110000100000010000100111001001100001011001000010110000100000010100000110100101110100011101000010110000100000011000100111001001100001011001000010111001110000011010010111010001110100010000000110011101101101011000010110100101101100001011100110001101101111011011010000000000000000000000000000000000000000000000000000000000000000000000000000000000000000000000000000000000000000000000000000000000000000000000000000000000000000000000000000000000000000000000000000000000000000000000000000000000000000000000000000000000000000000000000000000000000000000000000000000000000000000000000000000000000'\n",
    "Fq(Sample_Message)\n"
   ]
  },
  {
   "cell_type": "code",
   "execution_count": 23,
   "id": "601ebc8b",
   "metadata": {},
   "outputs": [
    {
     "data": {
      "text/plain": [
       "48971822957555800522553885196535931638458534609042995717859090620160820290284"
      ]
     },
     "execution_count": 23,
     "metadata": {},
     "output_type": "execute_result"
    }
   ],
   "source": [
    "F(0011000100110111001100000011001100110100001101010011100100111001001100010011000000101100001000000011000001111000001101100011001100110001001101000011001100111000001101010011010100110110011000100011011000110110011000110011010000111001001100000011100000110101001101110011100101000101011000010110001000111001001100100011000001100100011000110011000100110110001100100100011001000110001101010011100000111001001101010011100001100101011000010010110000100000010000100111001001100001011001000010110000100000010100000110100101110100011101000010110000100000011000100111001001100001011001000010111001110000011010010111010001110100010000000110011101101101011000010110100101101100001011100110001101101111011011010000000000000000000000000000000000000000000000000000000000000000000000000000000000000000000000000000000000000000000000000000000000000000000000000000000000000000000000000000000000000000000000000000000000000000000000000000000000000000000000000000000000000000000000000000000000000000000000000000000000000000000000000000000000000000)"
   ]
  },
  {
   "cell_type": "code",
   "execution_count": 31,
   "id": "46cb6850",
   "metadata": {},
   "outputs": [],
   "source": [
    "text = Fq(b'0011000100110111001100000011001100110100001101010011100100111001001100010011000000101100001000000011000001111000001101100011001100110001001101000011001100111000001101010011010100110110011000100011011000110110011000110011010000111001001100000011100000110101001101110011100101000101011000010110001000111001001100100011000001100100011000110011000100110110001100100100011001000110001101010011100000111001001101010011100001100101011000010010110000100000010000100111001001100001011001000010110000100000010100000110100101110100011101000010110000100000011000100111001001100001011001000010111001110000011010010111010001110100010000000110011101101101011000010110100101101100001011100110001101101111011011010000000000000000000000000000000000000000000000000000000000000000000000000000000000000000000000000000000000000000000000000000000000000000000000000000000000000000000000000000000000000000000000000000000000000000000000000000000000000000000000000000000000000000000000000000000000000000000000000000000000000000000000000000000000000000')"
   ]
  },
  {
   "cell_type": "code",
   "execution_count": 32,
   "id": "643683b1",
   "metadata": {},
   "outputs": [
    {
     "data": {
      "text/plain": [
       "56945026142652990903665788292989572870733474814677818395157661160264170432358"
      ]
     },
     "execution_count": 32,
     "metadata": {},
     "output_type": "execute_result"
    }
   ],
   "source": [
    "text"
   ]
  },
  {
   "cell_type": "code",
   "execution_count": 24,
   "id": "9c38f84a",
   "metadata": {},
   "outputs": [],
   "source": [
    "r_dash = 99203311233515356944939973109948126869678508995505611514577819855695946887125"
   ]
  },
  {
   "cell_type": "code",
   "execution_count": 25,
   "id": "55f1e3bb",
   "metadata": {},
   "outputs": [
    {
     "data": {
      "text/plain": [
       "51497217555738848761666794681047511479915998884285788620383991677177724142071"
      ]
     },
     "execution_count": 25,
     "metadata": {},
     "output_type": "execute_result"
    }
   ],
   "source": [
    "inverse_mod(r_dash,q)"
   ]
  },
  {
   "cell_type": "code",
   "execution_count": 8,
   "id": "d4c3542a",
   "metadata": {},
   "outputs": [
    {
     "data": {
      "text/plain": [
       "51497217555738848761666794681047511479915998884285788620383991677177724142071"
      ]
     },
     "execution_count": 8,
     "metadata": {},
     "output_type": "execute_result"
    }
   ],
   "source": [
    "inverse_mod(-r_dash,q)"
   ]
  },
  {
   "cell_type": "code",
   "execution_count": 11,
   "id": "2f1f0ec8",
   "metadata": {},
   "outputs": [
    {
     "name": "stdout",
     "output_type": "stream",
     "text": [
      "-r^-1 =  46477846895513551707904259789987878689825541498266258046017316014204828837901\n",
      "-r * -r^-1 =  1\n"
     ]
    }
   ],
   "source": [
    "temp = inverse_mod(r_dash,p)\n",
    "temp1 = mod(temp*r_dash,p)\n",
    "print(\"-r^-1 = \",temp);\n",
    "print(\"-r * -r^-1 = \",temp1);"
   ]
  },
  {
   "cell_type": "code",
   "execution_count": 12,
   "id": "bd65b731",
   "metadata": {},
   "outputs": [
    {
     "data": {
      "text/plain": [
       "64294871681577346661904190327640396372921565394789115762221171464340437352266"
      ]
     },
     "execution_count": 12,
     "metadata": {},
     "output_type": "execute_result"
    }
   ],
   "source": [
    "inverse_mod(r_dash,q)"
   ]
  },
  {
   "cell_type": "code",
   "execution_count": 13,
   "id": "674ae17b",
   "metadata": {},
   "outputs": [
    {
     "data": {
      "text/plain": [
       "37250994146847980901897220138821428641353811814547235412545415644455008145365"
      ]
     },
     "execution_count": 13,
     "metadata": {},
     "output_type": "execute_result"
    }
   ],
   "source": [
    "inverse_mod(r_dash,52435875175126190479447740508185965837690552500527637822603658699938581184513)"
   ]
  },
  {
   "cell_type": "code",
   "execution_count": 27,
   "id": "b25b8525",
   "metadata": {},
   "outputs": [
    {
     "data": {
      "text/plain": [
       "115792089237316195423570985008687907853269984665640564039457584007908834671663"
      ]
     },
     "execution_count": 27,
     "metadata": {},
     "output_type": "execute_result"
    }
   ],
   "source": [
    "p"
   ]
  },
  {
   "cell_type": "code",
   "execution_count": 28,
   "id": "b3715421",
   "metadata": {},
   "outputs": [
    {
     "data": {
      "text/plain": [
       "64294871681577346661904190327640396372921565394789115762221171464340437352266"
      ]
     },
     "execution_count": 28,
     "metadata": {},
     "output_type": "execute_result"
    }
   ],
   "source": [
    "inverse_mod(-99203311233515356944939973109948126869678508995505611514577819855695946887125,q)"
   ]
  },
  {
   "cell_type": "code",
   "execution_count": 29,
   "id": "6f9501e6",
   "metadata": {},
   "outputs": [
    {
     "data": {
      "text/plain": [
       "46477846895513551707904259789987878689825541498266258046017316014204828837901"
      ]
     },
     "execution_count": 29,
     "metadata": {},
     "output_type": "execute_result"
    }
   ],
   "source": [
    "inverse_mod(-99203311233515356944939973109948126869678508995505611514577819855695946887125,p)"
   ]
  },
  {
   "cell_type": "code",
   "execution_count": 30,
   "id": "4d6b8ae2",
   "metadata": {},
   "outputs": [
    {
     "data": {
      "text/plain": [
       "64294871681577346661904190327640396373353985781354775419073592330731110529592"
      ]
     },
     "execution_count": 30,
     "metadata": {},
     "output_type": "execute_result"
    }
   ],
   "source": [
    "mod(-51497217555738848761666794681047511479915998884285788620383991677177724142071,p)"
   ]
  },
  {
   "cell_type": "code",
   "execution_count": 50,
   "id": "35573c42",
   "metadata": {},
   "outputs": [
    {
     "ename": "NameError",
     "evalue": "name 'fffffffffffffffffffffffffffffffebaaedce6af48a03bbfd25e8cd0364141' is not defined",
     "output_type": "error",
     "traceback": [
      "\u001b[0;31m---------------------------------------------------------------------------\u001b[0m",
      "\u001b[0;31mNameError\u001b[0m                                 Traceback (most recent call last)",
      "\u001b[0;32m/tmp/ipykernel_517/868705146.py\u001b[0m in \u001b[0;36m<module>\u001b[0;34m\u001b[0m\n\u001b[0;32m----> 1\u001b[0;31m \u001b[0mtemp22\u001b[0m\u001b[0;34m=\u001b[0m \u001b[0mfffffffffffffffffffffffffffffffebaaedce6af48a03bbfd25e8cd0364141\u001b[0m\u001b[0;34m\u001b[0m\u001b[0;34m\u001b[0m\u001b[0m\n\u001b[0m",
      "\u001b[0;31mNameError\u001b[0m: name 'fffffffffffffffffffffffffffffffebaaedce6af48a03bbfd25e8cd0364141' is not defined"
     ]
    }
   ],
   "source": [
    "temp22= fffffffffffffffffffffffffffffffebaaedce6af48a03bbfd25e8cd0364141"
   ]
  },
  {
   "cell_type": "code",
   "execution_count": 28,
   "id": "e5385138",
   "metadata": {},
   "outputs": [],
   "source": [
    "bin = 10011110100111101001111010011110100111101001111010011110100111101001111010011110100111101001111010011110100111101001111010011110100111101001111010011110100111101001111010011110100111101001111010011110100111101001111010011110100111101001111010011110100111109"
   ]
  },
  {
   "cell_type": "code",
   "execution_count": 31,
   "id": "9af95374",
   "metadata": {},
   "outputs": [
    {
     "data": {
      "text/plain": [
       "88374682233524718405458525974982776848867906438824540458340258555219841523430"
      ]
     },
     "execution_count": 31,
     "metadata": {},
     "output_type": "execute_result"
    }
   ],
   "source": [
    "Fp(bin)"
   ]
  },
  {
   "cell_type": "code",
   "execution_count": 32,
   "id": "dc2b51f0",
   "metadata": {},
   "outputs": [
    {
     "data": {
      "text/plain": [
       "56896272305814760782568181801105267968955329064694530680306244240325976797274"
      ]
     },
     "execution_count": 32,
     "metadata": {},
     "output_type": "execute_result"
    }
   ],
   "source": [
    "Fp(1001111000011101010011000101110111000111110001011010000000011001011011010101110101010001011010101101010110010001100011000100111011101110111001110101110111110010110110101111011010111000101001010101010000110100110111110110001001001011011001110111000111100011)"
   ]
  },
  {
   "cell_type": "code",
   "execution_count": 38,
   "id": "fdf2700f",
   "metadata": {},
   "outputs": [
    {
     "data": {
      "text/plain": [
       "71517195702070503047587663572059753726493644059415185349259027346457281130979"
      ]
     },
     "execution_count": 38,
     "metadata": {},
     "output_type": "execute_result"
    }
   ],
   "source": [
    "mod(hash_message_decimal,p)"
   ]
  },
  {
   "cell_type": "code",
   "execution_count": 39,
   "id": "45f9eb91",
   "metadata": {},
   "outputs": [
    {
     "data": {
      "text/plain": [
       "56896272305814760782568181801105267968955329064694530680306244240325976797274"
      ]
     },
     "execution_count": 39,
     "metadata": {},
     "output_type": "execute_result"
    }
   ],
   "source": [
    "Fp(1001111000011101010011000101110111000111110001011010000000011001011011010101110101010001011010101101010110010001100011000100111011101110111001110101110111110010110110101111011010111000101001010101010000110100110111110110001001001011011001110111000111100011)"
   ]
  },
  {
   "cell_type": "code",
   "execution_count": 46,
   "id": "4bb77136",
   "metadata": {},
   "outputs": [
    {
     "data": {
      "text/plain": [
       "71517195702070503047587663572059753726493644059415185349259027346457281130979"
      ]
     },
     "execution_count": 46,
     "metadata": {},
     "output_type": "execute_result"
    }
   ],
   "source": [
    "hash_message_decimal"
   ]
  },
  {
   "cell_type": "code",
   "execution_count": 47,
   "id": "4c847eff",
   "metadata": {},
   "outputs": [
    {
     "data": {
      "text/plain": [
       "13621151083412405335802171067715799799858651726594903329530235342500716311011"
      ]
     },
     "execution_count": 47,
     "metadata": {},
     "output_type": "execute_result"
    }
   ],
   "source": [
    "Fp(13621151083412405335802171067715799799858651726594903329530235342500716311011)"
   ]
  },
  {
   "cell_type": "code",
   "execution_count": 51,
   "id": "fee51ac7",
   "metadata": {},
   "outputs": [
    {
     "data": {
      "text/plain": [
       "4987931324193825211482436490293388470144107548212609512670430723522325048721"
      ]
     },
     "execution_count": 51,
     "metadata": {},
     "output_type": "execute_result"
    }
   ],
   "source": [
    "Fp(0001111000011101010011000101110111000111110001011010000000011001011011010101110101010001011010101101010110010001100011000100111011101110111001110101110111110010110110101111011010111000101001010101010000110100110111110110001001001011011001110111000111100011)"
   ]
  },
  {
   "cell_type": "code",
   "execution_count": 54,
   "id": "26875e0b",
   "metadata": {},
   "outputs": [
    {
     "data": {
      "text/plain": [
       "256"
      ]
     },
     "execution_count": 54,
     "metadata": {},
     "output_type": "execute_result"
    }
   ],
   "source": [
    "len(q.bits())"
   ]
  },
  {
   "cell_type": "code",
   "execution_count": 55,
   "id": "5b9afb72",
   "metadata": {},
   "outputs": [
    {
     "data": {
      "text/plain": [
       "1001111000011101010011000101110111000111110001011010000000011001011011010101110101010001011010101101010110010001100011000100111011101110111001110101110111110010110110101111011010111000101001010101010000110100110111110110001001001011011001110111000111100011"
      ]
     },
     "execution_count": 55,
     "metadata": {},
     "output_type": "execute_result"
    }
   ],
   "source": [
    "1001111000011101010011000101110111000111110001011010000000011001011011010101110101010001011010101101010110010001100011000100111011101110111001110101110111110010110110101111011010111000101001010101010000110100110111110110001001001011011001110111000111100011"
   ]
  },
  {
   "cell_type": "code",
   "execution_count": 56,
   "id": "981aea4c",
   "metadata": {},
   "outputs": [
    {
     "data": {
      "text/plain": [
       "'111110111001010001001100001111111100001000011111010011010001000110110001101001110100010000001000111101001000100010010011011100010011101100111000101100001110011101110010101101001010110001110001001000111110011111100111100101111111110001101000011000001011010'"
      ]
     },
     "execution_count": 56,
     "metadata": {},
     "output_type": "execute_result"
    }
   ],
   "source": [
    "x = 56896272305814760782568181801105267968955329064694530680306244240325976797274\n",
    "x.binary()"
   ]
  },
  {
   "cell_type": "code",
   "execution_count": null,
   "id": "d1b4f4f6",
   "metadata": {},
   "outputs": [],
   "source": [
    "1001111000011101010011000101110111000111110001011010000000011001011011010101110101010001011010101101010110010001100011000100111011101110111001110101110111110010110110101111011010111000101001010101010000110100110111110110001001001011011001110111000111100011"
   ]
  },
  {
   "cell_type": "code",
   "execution_count": 57,
   "id": "845327aa",
   "metadata": {},
   "outputs": [
    {
     "data": {
      "text/plain": [
       "71517195702070503047587663572059753726493644059415185349259027346457281130979"
      ]
     },
     "execution_count": 57,
     "metadata": {},
     "output_type": "execute_result"
    }
   ],
   "source": [
    "hash_message_decimal"
   ]
  },
  {
   "cell_type": "code",
   "execution_count": null,
   "id": "f55b6499",
   "metadata": {},
   "outputs": [],
   "source": []
  }
 ],
 "metadata": {
  "kernelspec": {
   "display_name": "SageMath 9.5",
   "language": "sage",
   "name": "sagemath"
  },
  "language_info": {
   "codemirror_mode": {
    "name": "ipython",
    "version": 3
   },
   "file_extension": ".py",
   "mimetype": "text/x-python",
   "name": "python",
   "nbconvert_exporter": "python",
   "pygments_lexer": "ipython3",
   "version": "3.10.12"
  }
 },
 "nbformat": 4,
 "nbformat_minor": 5
}
