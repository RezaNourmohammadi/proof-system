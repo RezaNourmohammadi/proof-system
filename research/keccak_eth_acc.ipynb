{
 "cells": [
  {
   "cell_type": "code",
   "execution_count": 1,
   "id": "a89ab851-4046-4551-9fd0-a1a913a944a1",
   "metadata": {},
   "outputs": [],
   "source": [
    "import web3"
   ]
  },
  {
   "cell_type": "code",
   "execution_count": 11,
   "id": "6bf03159-6874-4256-88e0-85057ccf2d35",
   "metadata": {},
   "outputs": [],
   "source": [
    "import ecdsa"
   ]
  },
  {
   "cell_type": "code",
   "execution_count": 12,
   "id": "94aebd51-a8f4-4af8-98ef-b316ddfd47b3",
   "metadata": {},
   "outputs": [],
   "source": [
    "from ecdsa import SigningKey, SECP256k1"
   ]
  },
  {
   "cell_type": "code",
   "execution_count": 23,
   "id": "61290757-9798-44dd-a118-a0b654043581",
   "metadata": {},
   "outputs": [],
   "source": [
    "import hashlib"
   ]
  },
  {
   "cell_type": "code",
   "execution_count": 34,
   "id": "f6223a97-e82c-4c57-830c-4e38583ef6f7",
   "metadata": {},
   "outputs": [],
   "source": [
    "import sha3"
   ]
  },
  {
   "cell_type": "code",
   "execution_count": null,
   "id": "0f729c37-519c-4d5b-a9ce-bbcea0097359",
   "metadata": {},
   "outputs": [],
   "source": []
  },
  {
   "cell_type": "code",
   "execution_count": 2,
   "id": "73dea944-b03a-4270-8386-e7d052cb0f80",
   "metadata": {},
   "outputs": [],
   "source": [
    "priv_key = \"0x2f2172a54d72d7c2b5094f1c36095c55953f293309d45e11576c7f4ce29493d2\""
   ]
  },
  {
   "cell_type": "code",
   "execution_count": 18,
   "id": "71f10d5d-06ea-43d4-ad96-c43d4c7ed4e5",
   "metadata": {},
   "outputs": [],
   "source": [
    "sk = SigningKey.from_string(bytes.fromhex(priv_key[2:]), curve=SECP256k1)"
   ]
  },
  {
   "cell_type": "code",
   "execution_count": 59,
   "id": "1f66e562-f4b2-4244-be3b-4e40fa151850",
   "metadata": {},
   "outputs": [],
   "source": [
    "message = \"1703459910, 0x631438556b66c4908579Eab920dc162FF58958ea, Brad, Pitt, brad.pitt1@gmail.com\""
   ]
  },
  {
   "cell_type": "code",
   "execution_count": 60,
   "id": "ece706df-e776-4cc2-af28-4863a1c6cc08",
   "metadata": {},
   "outputs": [],
   "source": [
    "message_bytes= bytes(message, \"ascii\")"
   ]
  },
  {
   "cell_type": "code",
   "execution_count": 61,
   "id": "3981fa64-ca93-4975-b818-5c38e871fcfe",
   "metadata": {},
   "outputs": [],
   "source": [
    "message_bytes_padded= message_bytes + b'\\x00' * (1024//8 - len(message_bytes))"
   ]
  },
  {
   "cell_type": "code",
   "execution_count": null,
   "id": "a7ad90b5-3606-42aa-9362-c4ef25a966dc",
   "metadata": {},
   "outputs": [],
   "source": []
  },
  {
   "cell_type": "code",
   "execution_count": 62,
   "id": "a45039b3-861c-4b0c-935f-a3c0b5c2b594",
   "metadata": {},
   "outputs": [
    {
     "data": {
      "text/plain": [
       "'d1c9df93db4241a4f7f1b886eedd581d4fd8dac447da3a0537b1db3e8120c399222b404a1532591d7394fe05bc7089a04d0ae7238c2275e2af1e0160c9253e15'"
      ]
     },
     "execution_count": 62,
     "metadata": {},
     "output_type": "execute_result"
    }
   ],
   "source": [
    "sk.sign_deterministic(message_bytes_padded, hashfunc=sha3.keccak_256).hex()"
   ]
  },
  {
   "cell_type": "code",
   "execution_count": 63,
   "id": "e552971a-ebba-49ca-93a9-e6033f7ce842",
   "metadata": {},
   "outputs": [
    {
     "data": {
      "text/plain": [
       "'fb5f7edea9287c0dd22d02ac631438556b66c4908579eab920dc162ff58958ea'"
      ]
     },
     "execution_count": 63,
     "metadata": {},
     "output_type": "execute_result"
    }
   ],
   "source": [
    "pub_key = sk.verifying_key.pubkey.point.to_bytes()\n",
    "hasher = sha3.keccak_256()\n",
    "hasher.update(pub_key)\n",
    "hasher.digest().hex()"
   ]
  },
  {
   "cell_type": "code",
   "execution_count": 39,
   "id": "1fedece8-a9b4-40d1-9d33-02eacfc106ab",
   "metadata": {},
   "outputs": [],
   "source": [
    "# web3.eth.account.from_key(\"0x2f2172a54d72d7c2b5094f1c36095c55953f293309d45e11576c7f4ce29493d2\")\n",
    "acc = web3.eth.Account.from_key(priv_key)"
   ]
  },
  {
   "cell_type": "code",
   "execution_count": 4,
   "id": "021549c3-32b8-4e7f-b224-73d8cb0a7883",
   "metadata": {},
   "outputs": [
    {
     "data": {
      "text/plain": [
       "'0x631438556b66c4908579Eab920dc162FF58958ea'"
      ]
     },
     "execution_count": 4,
     "metadata": {},
     "output_type": "execute_result"
    }
   ],
   "source": [
    "acc.address"
   ]
  },
  {
   "cell_type": "code",
   "execution_count": 5,
   "id": "7f4d4e10-2bb4-4f90-bdb5-66117ef95e4e",
   "metadata": {},
   "outputs": [],
   "source": [
    "import sha3"
   ]
  },
  {
   "cell_type": "code",
   "execution_count": 9,
   "id": "41a8e2c4-1496-4b30-9053-ecfcdbb564b3",
   "metadata": {},
   "outputs": [
    {
     "data": {
      "text/plain": [
       "b'1703459910, 0x631438556b66c4908579Eab920dc162FF58958ea, Brad, Pitt, brad.pitt@gmail.com\\x00\\x00\\x00\\x00\\x00\\x00\\x00\\x00\\x00\\x00\\x00\\x00\\x00\\x00\\x00\\x00\\x00\\x00\\x00\\x00\\x00\\x00\\x00\\x00\\x00\\x00\\x00\\x00\\x00\\x00\\x00\\x00\\x00\\x00\\x00\\x00\\x00\\x00\\x00\\x00\\x00'"
      ]
     },
     "execution_count": 9,
     "metadata": {},
     "output_type": "execute_result"
    }
   ],
   "source": [
    "message_bytes_padded"
   ]
  },
  {
   "cell_type": "code",
   "execution_count": 10,
   "id": "6fdcb0d6-6e95-4409-b7f6-8cbb4de8e4f1",
   "metadata": {},
   "outputs": [
    {
     "ename": "AttributeError",
     "evalue": "'bytes' object has no attribute 'version'",
     "output_type": "error",
     "traceback": [
      "\u001b[0;31m---------------------------------------------------------------------------\u001b[0m",
      "\u001b[0;31mAttributeError\u001b[0m                            Traceback (most recent call last)",
      "Input \u001b[0;32mIn [10]\u001b[0m, in \u001b[0;36m<cell line: 1>\u001b[0;34m()\u001b[0m\n\u001b[0;32m----> 1\u001b[0m \u001b[43macc\u001b[49m\u001b[38;5;241;43m.\u001b[39;49m\u001b[43msign_message\u001b[49m\u001b[43m(\u001b[49m\u001b[43mmessage_bytes_padded\u001b[49m\u001b[43m)\u001b[49m\n",
      "File \u001b[0;32m/opt/homebrew/lib/python3.10/site-packages/eth_account/signers/local.py:89\u001b[0m, in \u001b[0;36mLocalAccount.sign_message\u001b[0;34m(self, signable_message)\u001b[0m\n\u001b[1;32m     82\u001b[0m \u001b[38;5;28;01mdef\u001b[39;00m \u001b[38;5;21msign_message\u001b[39m(\u001b[38;5;28mself\u001b[39m, signable_message):\n\u001b[1;32m     83\u001b[0m     \u001b[38;5;124;03m\"\"\"\u001b[39;00m\n\u001b[1;32m     84\u001b[0m \u001b[38;5;124;03m    Generate a string with the encrypted key.\u001b[39;00m\n\u001b[1;32m     85\u001b[0m \n\u001b[1;32m     86\u001b[0m \u001b[38;5;124;03m    This uses the same structure as in\u001b[39;00m\n\u001b[1;32m     87\u001b[0m \u001b[38;5;124;03m    :meth:`~eth_account.account.Account.sign_message`, but without a private key argument.\u001b[39;00m\n\u001b[1;32m     88\u001b[0m \u001b[38;5;124;03m    \"\"\"\u001b[39;00m\n\u001b[0;32m---> 89\u001b[0m     \u001b[38;5;28;01mreturn\u001b[39;00m \u001b[38;5;28;43mself\u001b[39;49m\u001b[38;5;241;43m.\u001b[39;49m\u001b[43m_publicapi\u001b[49m\u001b[38;5;241;43m.\u001b[39;49m\u001b[43msign_message\u001b[49m\u001b[43m(\u001b[49m\u001b[43msignable_message\u001b[49m\u001b[43m,\u001b[49m\u001b[43m \u001b[49m\u001b[43mprivate_key\u001b[49m\u001b[38;5;241;43m=\u001b[39;49m\u001b[38;5;28;43mself\u001b[39;49m\u001b[38;5;241;43m.\u001b[39;49m\u001b[43mkey\u001b[49m\u001b[43m)\u001b[49m\n",
      "File \u001b[0;32m/opt/homebrew/lib/python3.10/site-packages/eth_utils/decorators.py:20\u001b[0m, in \u001b[0;36mcombomethod.__get__.<locals>._wrapper\u001b[0;34m(*args, **kwargs)\u001b[0m\n\u001b[1;32m     18\u001b[0m     \u001b[38;5;28;01mreturn\u001b[39;00m \u001b[38;5;28mself\u001b[39m\u001b[38;5;241m.\u001b[39mmethod(obj, \u001b[38;5;241m*\u001b[39margs, \u001b[38;5;241m*\u001b[39m\u001b[38;5;241m*\u001b[39mkwargs)\n\u001b[1;32m     19\u001b[0m \u001b[38;5;28;01melse\u001b[39;00m:\n\u001b[0;32m---> 20\u001b[0m     \u001b[38;5;28;01mreturn\u001b[39;00m \u001b[38;5;28;43mself\u001b[39;49m\u001b[38;5;241;43m.\u001b[39;49m\u001b[43mmethod\u001b[49m\u001b[43m(\u001b[49m\u001b[43mobjtype\u001b[49m\u001b[43m,\u001b[49m\u001b[43m \u001b[49m\u001b[38;5;241;43m*\u001b[39;49m\u001b[43margs\u001b[49m\u001b[43m,\u001b[49m\u001b[43m \u001b[49m\u001b[38;5;241;43m*\u001b[39;49m\u001b[38;5;241;43m*\u001b[39;49m\u001b[43mkwargs\u001b[49m\u001b[43m)\u001b[49m\n",
      "File \u001b[0;32m/opt/homebrew/lib/python3.10/site-packages/eth_account/account.py:559\u001b[0m, in \u001b[0;36mAccount.sign_message\u001b[0;34m(self, signable_message, private_key)\u001b[0m\n\u001b[1;32m    515\u001b[0m \u001b[38;5;129m@combomethod\u001b[39m\n\u001b[1;32m    516\u001b[0m \u001b[38;5;28;01mdef\u001b[39;00m \u001b[38;5;21msign_message\u001b[39m(\u001b[38;5;28mself\u001b[39m, signable_message: SignableMessage, private_key):\n\u001b[1;32m    517\u001b[0m     \u001b[38;5;124mr\u001b[39m\u001b[38;5;124;03m\"\"\"\u001b[39;00m\n\u001b[1;32m    518\u001b[0m \u001b[38;5;124;03m    Sign the provided message.\u001b[39;00m\n\u001b[1;32m    519\u001b[0m \n\u001b[0;32m   (...)\u001b[0m\n\u001b[1;32m    557\u001b[0m \u001b[38;5;124;03m    .. _EIP-191: https://eips.ethereum.org/EIPS/eip-191\u001b[39;00m\n\u001b[1;32m    558\u001b[0m \u001b[38;5;124;03m    \"\"\"\u001b[39;00m\n\u001b[0;32m--> 559\u001b[0m     message_hash \u001b[38;5;241m=\u001b[39m \u001b[43m_hash_eip191_message\u001b[49m\u001b[43m(\u001b[49m\u001b[43msignable_message\u001b[49m\u001b[43m)\u001b[49m\n\u001b[1;32m    560\u001b[0m     \u001b[38;5;28;01mreturn\u001b[39;00m \u001b[38;5;28mself\u001b[39m\u001b[38;5;241m.\u001b[39m_sign_hash(message_hash, private_key)\n",
      "File \u001b[0;32m/opt/homebrew/lib/python3.10/site-packages/eth_account/messages.py:63\u001b[0m, in \u001b[0;36m_hash_eip191_message\u001b[0;34m(signable_message)\u001b[0m\n\u001b[1;32m     62\u001b[0m \u001b[38;5;28;01mdef\u001b[39;00m \u001b[38;5;21m_hash_eip191_message\u001b[39m(signable_message: SignableMessage) \u001b[38;5;241m-\u001b[39m\u001b[38;5;241m>\u001b[39m Hash32:\n\u001b[0;32m---> 63\u001b[0m     version \u001b[38;5;241m=\u001b[39m \u001b[43msignable_message\u001b[49m\u001b[38;5;241;43m.\u001b[39;49m\u001b[43mversion\u001b[49m\n\u001b[1;32m     64\u001b[0m     \u001b[38;5;28;01mif\u001b[39;00m \u001b[38;5;28mlen\u001b[39m(version) \u001b[38;5;241m!=\u001b[39m \u001b[38;5;241m1\u001b[39m:\n\u001b[1;32m     65\u001b[0m         \u001b[38;5;28;01mraise\u001b[39;00m ValidationError(\n\u001b[1;32m     66\u001b[0m             \u001b[38;5;124mf\u001b[39m\u001b[38;5;124m\"\u001b[39m\u001b[38;5;124mThe supplied message version is \u001b[39m\u001b[38;5;132;01m{\u001b[39;00mversion\u001b[38;5;132;01m!r}\u001b[39;00m\u001b[38;5;124m. \u001b[39m\u001b[38;5;124m\"\u001b[39m\n\u001b[1;32m     67\u001b[0m             \u001b[38;5;124m\"\u001b[39m\u001b[38;5;124mThe EIP-191 signable message standard only supports one-byte versions.\u001b[39m\u001b[38;5;124m\"\u001b[39m\n\u001b[1;32m     68\u001b[0m         )\n",
      "\u001b[0;31mAttributeError\u001b[0m: 'bytes' object has no attribute 'version'"
     ]
    }
   ],
   "source": [
    "acc.sign_message(message_bytes_padded)"
   ]
  },
  {
   "cell_type": "code",
   "execution_count": 37,
   "id": "7c7405d3-637f-4c5a-ad8c-db8a7feb18db",
   "metadata": {},
   "outputs": [],
   "source": [
    "hasher = sha3.keccak_256()"
   ]
  },
  {
   "cell_type": "code",
   "execution_count": 39,
   "id": "66eda714-a997-4db4-a93d-f80bc7d3ba3d",
   "metadata": {},
   "outputs": [],
   "source": [
    "hasher.update(message_bytes_padded)"
   ]
  },
  {
   "cell_type": "code",
   "execution_count": 40,
   "id": "8d58bcdc-0593-4b1a-88af-6c68925b99f3",
   "metadata": {},
   "outputs": [
    {
     "data": {
      "text/plain": [
       "'9e1d4c5dc7c5a0196d5d516ad5918c4eeee75df2daf6b8a55434df624b6771e3'"
      ]
     },
     "execution_count": 40,
     "metadata": {},
     "output_type": "execute_result"
    }
   ],
   "source": [
    "hasher.hexdigest()"
   ]
  },
  {
   "cell_type": "code",
   "execution_count": 44,
   "id": "b1d7ff66-7091-4dc6-9423-661c796bea8b",
   "metadata": {},
   "outputs": [],
   "source": [
    "from ecdsa import SigningKey, SECP256k1"
   ]
  },
  {
   "cell_type": "code",
   "execution_count": 68,
   "id": "8469bef2-6ceb-40a2-83b5-8e84c1d3015b",
   "metadata": {},
   "outputs": [
    {
     "name": "stdout",
     "output_type": "stream",
     "text": [
      "0x631438556b66c4908579eab920dc162ff58958ea 929dc4e45e6742949319a22fa5afdc14744e39f01be4fc2ab1c3ee7e2410f4c852656e93be1468eb088b904cd17480acc5c538ed84ad954c0e7e4ff509c8b4d8 b'\\x92\\x9d\\xc4\\xe4^gB\\x94\\x93\\x19\\xa2/\\xa5\\xaf\\xdc\\x14tN9\\xf0\\x1b\\xe4\\xfc*\\xb1\\xc3\\xee~$\\x10\\xf4\\xc8Ren\\x93\\xbe\\x14h\\xeb\\x08\\x8b\\x90L\\xd1t\\x80\\xac\\xc5\\xc58\\xed\\x84\\xad\\x95L\\x0e~O\\xf5\\t\\xc8\\xb4\\xd8'\n"
     ]
    }
   ],
   "source": [
    "    priv = SigningKey.from_string(bytes.fromhex(priv_key[2:]), curve=SECP256k1)\n",
    "    priv\n",
    "    pub = priv.get_verifying_key().to_string()\n",
    "    keccak = sha3.keccak_256()\n",
    "    keccak.update(pub)\n",
    "    address = \"0x\" + keccak.hexdigest()[24:]\n",
    "    print(address, pub.hex(), pub)"
   ]
  },
  {
   "cell_type": "code",
   "execution_count": 69,
   "id": "f85168e1-2960-4001-919e-562fdf6595ae",
   "metadata": {},
   "outputs": [
    {
     "data": {
      "text/plain": [
       "128"
      ]
     },
     "execution_count": 69,
     "metadata": {},
     "output_type": "execute_result"
    }
   ],
   "source": [
    "len(\"929dc4e45e6742949319a22fa5afdc14744e39f01be4fc2ab1c3ee7e2410f4c852656e93be1468eb088b904cd17480acc5c538ed84ad954c0e7e4ff509c8b4d8\")"
   ]
  },
  {
   "cell_type": "code",
   "execution_count": 72,
   "id": "0f0d6c97-49a2-434d-8a0e-80ee6cec4f10",
   "metadata": {},
   "outputs": [
    {
     "data": {
      "text/plain": [
       "146"
      ]
     },
     "execution_count": 72,
     "metadata": {},
     "output_type": "execute_result"
    }
   ],
   "source": [
    "int(\"92\", 16)"
   ]
  },
  {
   "cell_type": "code",
   "execution_count": 71,
   "id": "0feba585-75b4-4c4c-bd3a-fca443d7b94e",
   "metadata": {},
   "outputs": [
    {
     "data": {
      "text/plain": [
       "157"
      ]
     },
     "execution_count": 71,
     "metadata": {},
     "output_type": "execute_result"
    }
   ],
   "source": [
    "int(\"9d\", 16)"
   ]
  },
  {
   "cell_type": "code",
   "execution_count": 1,
   "id": "0b74557a-c0d0-4239-a1ba-eea4b2c213d8",
   "metadata": {},
   "outputs": [
    {
     "data": {
      "text/plain": [
       "132"
      ]
     },
     "execution_count": 1,
     "metadata": {},
     "output_type": "execute_result"
    }
   ],
   "source": [
    "len(\"0x69b5a19bad81c7d7e4eaa4536b270c3603fd6c4da04de04afc6a8b0629a782a12bb7b5b1dbfaf8ebd2edf400e59b0d393628f31121e2d5d991c038c64096fb271c\")"
   ]
  },
  {
   "cell_type": "code",
   "execution_count": null,
   "id": "0e82100a-3926-4ae4-b2c9-4119f2d91e10",
   "metadata": {},
   "outputs": [],
   "source": []
  }
 ],
 "metadata": {
  "kernelspec": {
   "display_name": "Python 3 (ipykernel)",
   "language": "python",
   "name": "python3"
  },
  "language_info": {
   "codemirror_mode": {
    "name": "ipython",
    "version": 3
   },
   "file_extension": ".py",
   "mimetype": "text/x-python",
   "name": "python",
   "nbconvert_exporter": "python",
   "pygments_lexer": "ipython3",
   "version": "3.10.13"
  }
 },
 "nbformat": 4,
 "nbformat_minor": 5
}
