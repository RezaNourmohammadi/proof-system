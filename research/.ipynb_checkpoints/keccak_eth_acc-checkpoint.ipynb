{
 "cells": [
  {
   "cell_type": "code",
   "execution_count": 1,
   "id": "a89ab851-4046-4551-9fd0-a1a913a944a1",
   "metadata": {},
   "outputs": [],
   "source": [
    "import web3"
   ]
  },
  {
   "cell_type": "code",
   "execution_count": 46,
   "id": "73dea944-b03a-4270-8386-e7d052cb0f80",
   "metadata": {},
   "outputs": [],
   "source": [
    "priv_key = \"0x2f2172a54d72d7c2b5094f1c36095c55953f293309d45e11576c7f4ce29493d2\""
   ]
  },
  {
   "cell_type": "code",
   "execution_count": 47,
   "id": "1fedece8-a9b4-40d1-9d33-02eacfc106ab",
   "metadata": {},
   "outputs": [],
   "source": [
    "# web3.eth.account.from_key(\"0x2f2172a54d72d7c2b5094f1c36095c55953f293309d45e11576c7f4ce29493d2\")\n",
    "acc = web3.eth.Account.from_key(priv_key)"
   ]
  },
  {
   "cell_type": "code",
   "execution_count": 6,
   "id": "021549c3-32b8-4e7f-b224-73d8cb0a7883",
   "metadata": {},
   "outputs": [
    {
     "data": {
      "text/plain": [
       "'0x631438556b66c4908579Eab920dc162FF58958ea'"
      ]
     },
     "execution_count": 6,
     "metadata": {},
     "output_type": "execute_result"
    }
   ],
   "source": [
    "acc.address"
   ]
  },
  {
   "cell_type": "code",
   "execution_count": 7,
   "id": "7f4d4e10-2bb4-4f90-bdb5-66117ef95e4e",
   "metadata": {},
   "outputs": [],
   "source": [
    "import sha3"
   ]
  },
  {
   "cell_type": "code",
   "execution_count": 9,
   "id": "1f66e562-f4b2-4244-be3b-4e40fa151850",
   "metadata": {},
   "outputs": [],
   "source": [
    "message = \"1703459910, 0x631438556b66c4908579Eab920dc162FF58958ea, Brad, Pitt, brad.pitt@gmail.com\""
   ]
  },
  {
   "cell_type": "code",
   "execution_count": 29,
   "id": "ece706df-e776-4cc2-af28-4863a1c6cc08",
   "metadata": {},
   "outputs": [],
   "source": [
    "message_bytes= bytes(message, \"ascii\")"
   ]
  },
  {
   "cell_type": "code",
   "execution_count": 35,
   "id": "3981fa64-ca93-4975-b818-5c38e871fcfe",
   "metadata": {},
   "outputs": [],
   "source": [
    "message_bytes_padded= message_bytes + b'\\x00' * (1024//8 - len(message_bytes))"
   ]
  },
  {
   "cell_type": "code",
   "execution_count": 36,
   "id": "41a8e2c4-1496-4b30-9053-ecfcdbb564b3",
   "metadata": {},
   "outputs": [
    {
     "data": {
      "text/plain": [
       "b'1703459910, 0x631438556b66c4908579Eab920dc162FF58958ea, Brad, Pitt, brad.pitt@gmail.com\\x00\\x00\\x00\\x00\\x00\\x00\\x00\\x00\\x00\\x00\\x00\\x00\\x00\\x00\\x00\\x00\\x00\\x00\\x00\\x00\\x00\\x00\\x00\\x00\\x00\\x00\\x00\\x00\\x00\\x00\\x00\\x00\\x00\\x00\\x00\\x00\\x00\\x00\\x00\\x00\\x00'"
      ]
     },
     "execution_count": 36,
     "metadata": {},
     "output_type": "execute_result"
    }
   ],
   "source": [
    "message_bytes_padded"
   ]
  },
  {
   "cell_type": "code",
   "execution_count": 37,
   "id": "7c7405d3-637f-4c5a-ad8c-db8a7feb18db",
   "metadata": {},
   "outputs": [],
   "source": [
    "hasher = sha3.keccak_256()"
   ]
  },
  {
   "cell_type": "code",
   "execution_count": 39,
   "id": "66eda714-a997-4db4-a93d-f80bc7d3ba3d",
   "metadata": {},
   "outputs": [],
   "source": [
    "hasher.update(message_bytes_padded)"
   ]
  },
  {
   "cell_type": "code",
   "execution_count": 40,
   "id": "8d58bcdc-0593-4b1a-88af-6c68925b99f3",
   "metadata": {},
   "outputs": [
    {
     "data": {
      "text/plain": [
       "'9e1d4c5dc7c5a0196d5d516ad5918c4eeee75df2daf6b8a55434df624b6771e3'"
      ]
     },
     "execution_count": 40,
     "metadata": {},
     "output_type": "execute_result"
    }
   ],
   "source": [
    "hasher.hexdigest()"
   ]
  },
  {
   "cell_type": "code",
   "execution_count": 44,
   "id": "b1d7ff66-7091-4dc6-9423-661c796bea8b",
   "metadata": {},
   "outputs": [],
   "source": [
    "from ecdsa import SigningKey, SECP256k1"
   ]
  },
  {
   "cell_type": "code",
   "execution_count": 68,
   "id": "8469bef2-6ceb-40a2-83b5-8e84c1d3015b",
   "metadata": {},
   "outputs": [
    {
     "name": "stdout",
     "output_type": "stream",
     "text": [
      "0x631438556b66c4908579eab920dc162ff58958ea 929dc4e45e6742949319a22fa5afdc14744e39f01be4fc2ab1c3ee7e2410f4c852656e93be1468eb088b904cd17480acc5c538ed84ad954c0e7e4ff509c8b4d8 b'\\x92\\x9d\\xc4\\xe4^gB\\x94\\x93\\x19\\xa2/\\xa5\\xaf\\xdc\\x14tN9\\xf0\\x1b\\xe4\\xfc*\\xb1\\xc3\\xee~$\\x10\\xf4\\xc8Ren\\x93\\xbe\\x14h\\xeb\\x08\\x8b\\x90L\\xd1t\\x80\\xac\\xc5\\xc58\\xed\\x84\\xad\\x95L\\x0e~O\\xf5\\t\\xc8\\xb4\\xd8'\n"
     ]
    }
   ],
   "source": [
    "    priv = SigningKey.from_string(bytes.fromhex(priv_key[2:]), curve=SECP256k1)\n",
    "    priv\n",
    "    pub = priv.get_verifying_key().to_string()\n",
    "    keccak = sha3.keccak_256()\n",
    "    keccak.update(pub)\n",
    "    address = \"0x\" + keccak.hexdigest()[24:]\n",
    "    print(address, pub.hex(), pub)"
   ]
  },
  {
   "cell_type": "code",
   "execution_count": 69,
   "id": "f85168e1-2960-4001-919e-562fdf6595ae",
   "metadata": {},
   "outputs": [
    {
     "data": {
      "text/plain": [
       "128"
      ]
     },
     "execution_count": 69,
     "metadata": {},
     "output_type": "execute_result"
    }
   ],
   "source": [
    "len(\"929dc4e45e6742949319a22fa5afdc14744e39f01be4fc2ab1c3ee7e2410f4c852656e93be1468eb088b904cd17480acc5c538ed84ad954c0e7e4ff509c8b4d8\")"
   ]
  },
  {
   "cell_type": "code",
   "execution_count": 72,
   "id": "0f0d6c97-49a2-434d-8a0e-80ee6cec4f10",
   "metadata": {},
   "outputs": [
    {
     "data": {
      "text/plain": [
       "146"
      ]
     },
     "execution_count": 72,
     "metadata": {},
     "output_type": "execute_result"
    }
   ],
   "source": [
    "int(\"92\", 16)"
   ]
  },
  {
   "cell_type": "code",
   "execution_count": 71,
   "id": "0feba585-75b4-4c4c-bd3a-fca443d7b94e",
   "metadata": {},
   "outputs": [
    {
     "data": {
      "text/plain": [
       "157"
      ]
     },
     "execution_count": 71,
     "metadata": {},
     "output_type": "execute_result"
    }
   ],
   "source": [
    "int(\"9d\", 16)"
   ]
  },
  {
   "cell_type": "code",
   "execution_count": null,
   "id": "0b74557a-c0d0-4239-a1ba-eea4b2c213d8",
   "metadata": {},
   "outputs": [],
   "source": []
  }
 ],
 "metadata": {
  "kernelspec": {
   "display_name": "Python 3 (ipykernel)",
   "language": "python",
   "name": "python3"
  },
  "language_info": {
   "codemirror_mode": {
    "name": "ipython",
    "version": 3
   },
   "file_extension": ".py",
   "mimetype": "text/x-python",
   "name": "python",
   "nbconvert_exporter": "python",
   "pygments_lexer": "ipython3",
   "version": "3.10.13"
  }
 },
 "nbformat": 4,
 "nbformat_minor": 5
}
